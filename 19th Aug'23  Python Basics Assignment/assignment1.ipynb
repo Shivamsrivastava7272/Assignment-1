{
 "cells": [
  {
   "cell_type": "code",
   "execution_count": 1,
   "id": "f3a6deb2",
   "metadata": {},
   "outputs": [
    {
     "name": "stdout",
     "output_type": "stream",
     "text": [
      "10 20\n"
     ]
    }
   ],
   "source": [
    "# 1. Declare two variables, `x` and `y`, and assign them integer values. Swap the\n",
    "#values of these variables without using any temporary variable.\n",
    "\n",
    "\n",
    "x=20\n",
    "y=10\n",
    "# z=x\n",
    "# x=y\n",
    "# y=z\n",
    "x,y=y,x\n",
    "print(x,y)\n"
   ]
  },
  {
   "cell_type": "code",
   "execution_count": 3,
   "id": "7e4417d3",
   "metadata": {},
   "outputs": [
    {
     "name": "stdout",
     "output_type": "stream",
     "text": [
      "Enter Length: 10\n",
      "Enter Breadth: 10\n",
      "Area is:  100.0\n"
     ]
    }
   ],
   "source": [
    "\n",
    "\n",
    "# 2. Create a program that calculates the area of a rectangle. Take the length and\n",
    "# width as inputs from the user and store them in variables. Calculate and\n",
    "# display the area.\n",
    "length=float(input(\"Enter Length: \"))\n",
    "breadth=float(input(\"Enter Breadth: \"))\n",
    "area = length*breadth\n",
    "print('Area is: ',area)\n",
    "\n",
    "\n"
   ]
  },
  {
   "cell_type": "code",
   "execution_count": 4,
   "id": "a3a7a425",
   "metadata": {},
   "outputs": [
    {
     "name": "stdout",
     "output_type": "stream",
     "text": [
      "Enter temperature in celcius: 9\n",
      "Temperature in fahrenheit is:  48.2 F\n"
     ]
    }
   ],
   "source": [
    "\n",
    "# 3. Write a Python program that converts temperatures from Celsius to\n",
    "# Fahrenheit. Take the temperature in Celsius as input, store it in a variable,\n",
    "# convert it to Fahrenheit, and display the result.\n",
    "# formula: F=9/5*C+32\n",
    "celcius = float(input(\"Enter temperature in celcius: \"))\n",
    "fahrenheit = (9/5)*celcius+32\n",
    "print('Temperature in fahrenheit is: ',fahrenheit,\"F\")\n",
    "\n"
   ]
  },
  {
   "cell_type": "code",
   "execution_count": 5,
   "id": "3df24946",
   "metadata": {},
   "outputs": [
    {
     "name": "stdout",
     "output_type": "stream",
     "text": [
      "Enter a string: abba\n",
      "Length of the string: 4\n"
     ]
    }
   ],
   "source": [
    "\n",
    "# 1. Write a Python program that takes a string as input and prints the length of\n",
    "# the string.\n",
    "\n",
    "input_string = input(\"Enter a string: \")\n",
    "length = len(input_string)\n",
    "print(\"Length of the string:\", length)\n",
    "\n",
    "\n"
   ]
  },
  {
   "cell_type": "code",
   "execution_count": 6,
   "id": "9dc20e99",
   "metadata": {},
   "outputs": [
    {
     "name": "stdout",
     "output_type": "stream",
     "text": [
      "Enter sentence: bhhgg\n",
      "Total vowels is:  0\n"
     ]
    }
   ],
   "source": [
    "\n",
    "# 2. Create a program that takes a sentence from the user and counts the number\n",
    "# of vowels (a, e, i, o, u) in the string.\n",
    "string = input('Enter sentence: ')\n",
    "counter = 0\n",
    "vowels='aeiouAEIOU'\n",
    "for i in string:\n",
    "    if i in vowels:\n",
    "        counter = counter+1\n",
    "print('Total vowels is: ',counter)\n",
    "\n",
    "\n",
    "\n"
   ]
  },
  {
   "cell_type": "code",
   "execution_count": 7,
   "id": "1f4d25c6",
   "metadata": {},
   "outputs": [
    {
     "name": "stdout",
     "output_type": "stream",
     "text": [
      "Reverse string is:  avatsavirs mavihs\n"
     ]
    }
   ],
   "source": [
    "\n",
    "# 3. Given a string, reverse the order of characters using string slicing and print\n",
    "# the reversed string.\n",
    "string = 'shivam srivastava'\n",
    "reverse = string[::-1]\n",
    "print('Reverse string is: ',reverse)\n"
   ]
  },
  {
   "cell_type": "code",
   "execution_count": 8,
   "id": "193b0fc0",
   "metadata": {},
   "outputs": [
    {
     "name": "stdout",
     "output_type": "stream",
     "text": [
      "Enter sentence: jahaj\n",
      "Is string Palindrome:  True\n"
     ]
    }
   ],
   "source": [
    "\n",
    "\n",
    "# 4. Write a program that takes a string as input and checks if it is a palindrome\n",
    "# (reads the same forwards and backwards).\n",
    "string = input('Enter sentence: ')\n",
    "string = string.upper()\n",
    "reverse = string[::-1]\n",
    "isPalindrome = string==reverse\n",
    "print('Is string Palindrome: ',isPalindrome)\n"
   ]
  },
  {
   "cell_type": "code",
   "execution_count": 9,
   "id": "fa8b92cb",
   "metadata": {},
   "outputs": [
    {
     "name": "stdout",
     "output_type": "stream",
     "text": [
      "Enter sentence:    hjghf  hujvh u u uk hyu hy ukkyhj h    \n",
      "hjghfhujvhuuukhyuhyukkyhjh\n"
     ]
    }
   ],
   "source": [
    "\n",
    "\n",
    "# 5. Create a program that takes a string as input and removes all the spaces from\n",
    "# it. Print the modified string without spaces.\n",
    "string = input('Enter sentence: ')\n",
    "string = string.replace(\" \",\"\")\n",
    "print(string)"
   ]
  },
  {
   "cell_type": "code",
   "execution_count": null,
   "id": "71c43d2f",
   "metadata": {},
   "outputs": [],
   "source": []
  }
 ],
 "metadata": {
  "kernelspec": {
   "display_name": "Python 3 (ipykernel)",
   "language": "python",
   "name": "python3"
  },
  "language_info": {
   "codemirror_mode": {
    "name": "ipython",
    "version": 3
   },
   "file_extension": ".py",
   "mimetype": "text/x-python",
   "name": "python",
   "nbconvert_exporter": "python",
   "pygments_lexer": "ipython3",
   "version": "3.10.9"
  }
 },
 "nbformat": 4,
 "nbformat_minor": 5
}
